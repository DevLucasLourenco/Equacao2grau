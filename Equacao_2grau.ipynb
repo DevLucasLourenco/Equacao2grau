{
 "cells": [
  {
   "cell_type": "code",
   "execution_count": 1,
   "metadata": {},
   "outputs": [
    {
     "name": "stdout",
     "output_type": "stream",
     "text": [
      "raizes de uma equação do 2º grau\n",
      "x1: -0.5\n",
      "x2: -2.0\n"
     ]
    }
   ],
   "source": [
    "import math as m\n",
    "\n",
    "delta    = lambda a, b, c: m.pow(b, 2) - (4*a*c)\n",
    "bhaskara = lambda a, b, delta: (\n",
    "                                (-b + m.sqrt(delta)) / (2 * a), \n",
    "                                (-b - m.sqrt(delta)) / (2 * a))\n",
    "\n",
    "\n",
    "coeficiente = ['a', 'b', 'c']                                                            \n",
    "pergunta = [f'Declare o valor de {sequecia}:' for sequecia in coeficiente]\n",
    "ciclo = ''\n",
    "\n",
    "\n",
    "while ciclo != 'p':\n",
    "    print('raizes de uma equação do 2º grau')\n",
    "    pergunta_calculo = [float(input(p)) for p in pergunta]\n",
    "    calculo_delta = delta(pergunta_calculo[0], pergunta_calculo[1], pergunta_calculo[2])\n",
    "    \n",
    "    if pergunta_calculo[0] <= 0:\n",
    "        print('Esta não é uma equação do 2º grau.')\n",
    "\n",
    "    else:\n",
    "        x1_x2 = bhaskara(pergunta_calculo[0], pergunta_calculo[1], delta(pergunta_calculo[0], pergunta_calculo[1], pergunta_calculo[2]))\n",
    "        x1, x2 = x1_x2\n",
    "        \n",
    "        mostrar = [f'x{e+1}: {valor}' for e, valor in enumerate(x1_x2)]\n",
    "        print('\\n'.join(mostrar))\n",
    "\n",
    "        ciclo = input('Digite \"p\" caso queira parar, pressione \"Enter\" para continuar.').strip().lower()"
   ]
  }
 ],
 "metadata": {
  "kernelspec": {
   "display_name": "Python 3.9.7 ('base')",
   "language": "python",
   "name": "python3"
  },
  "language_info": {
   "codemirror_mode": {
    "name": "ipython",
    "version": 3
   },
   "file_extension": ".py",
   "mimetype": "text/x-python",
   "name": "python",
   "nbconvert_exporter": "python",
   "pygments_lexer": "ipython3",
   "version": "3.9.7"
  },
  "orig_nbformat": 4,
  "vscode": {
   "interpreter": {
    "hash": "665796ea3363072d3a6057ac2fdbe3c4fcb0d17a4b92295d9707f78e9c46c0af"
   }
  }
 },
 "nbformat": 4,
 "nbformat_minor": 2
}
